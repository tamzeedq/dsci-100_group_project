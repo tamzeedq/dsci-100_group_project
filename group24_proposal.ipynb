{
 "cells": [
  {
   "cell_type": "markdown",
   "id": "67e15d98-6c50-4ac7-8e3a-c92aa5292988",
   "metadata": {},
   "source": [
    "# Classifying Presense of Angiographic Heart Disease  \n",
    "\n",
    "### DSCI 100 004 Group 24 Proposal"
   ]
  },
  {
   "cell_type": "markdown",
   "id": "0eab0483-575a-40c7-9f37-91a8b6fa4c5e",
   "metadata": {},
   "source": [
    "## Introduction\n",
    "\n",
    "### Background\n",
    "Heart diseases are conditions that affect the heart's structure and function. They can develop into a serious stage and threaten someone’s life, so it is very important to make an early diagnosis and apply treatment as soon as possible. Heart diseases come in many different forms: coronary artery disease, heart rhythm disorders, heart valve disease, cardiomyopathy, congenital heart disease, pericardium, and heart failure. In our research, we will be analyzing coronary angiography disease which is the narrowing of blood vessels and constriction of proper blood flow.\n",
    "\n",
    "### Question\n",
    "Can we use classification to classify the presence and severity of angiographic disease in a patient based on their age, resting blood pressure, cholesterol level, maximum heart rate, and chest pain?    \n",
    "\n",
    "### DataSet \n",
    "The dataset is collected by researchers in hospitals from Cleveland, Hungary, Long Beach California, and Switzerland. The dataset can be found here https://archive.ics.uci.edu/dataset/45/heart+disease. The dataset orignally contained 76 attributes but researchers have reduced it to 14 attributes. Them being,\n",
    "- `age` \n",
    "- `sex`\n",
    "\n",
    "        -- Value 1: Male\n",
    "        -- Value 2: Female\n",
    "- `cp` - chest pain type\n",
    "\n",
    "        -- Value 1: typical angina\n",
    "        -- Value 2: atypical angina\n",
    "        -- Value 3: non-anginal pain\n",
    "        -- Value 4: asymptomatic\n",
    "- `trestbps` - resting blood pressure (in mm Hg on admission to the hospital)\n",
    "- `chol` - serum cholesterol in mg/dl\n",
    "- `fbs`- (fasting blood sugar > 120 mg/dl)  (1 = true; 0 = false)\n",
    "- `restecg` - resting electrocardiographic results\n",
    "\n",
    "        -- Value 0: normal\n",
    "        -- Value 1: having ST-T wave abnormality \n",
    "        -- Value 2: showing probable or definite left ventricular hypertrophy\n",
    "\n",
    "- `thalach` -maximum heart rate achieved\n",
    "- `exang` - exercise induced angina (1 = yes; 0 = no)\n",
    "- `oldpeak` - ST depression induced by exercise relative to rest\n",
    "- `slope` - the slope of the peak exercise ST segment\n",
    "\n",
    "        -- Value 1: upsloping\n",
    "        -- Value 2: flat\n",
    "        -- Value 3: downsloping\n",
    "- `ca` - number of major vessels (0-3)\n",
    "- `thal`\n",
    "\n",
    "        -- Value 3: normal\n",
    "        -- Value 6: fixed defect\n",
    "        -- Value 7: reversable defect\n",
    "- `num` -diagnosis of heart disease (angiographic disease status)\n",
    "\n",
    "        -- Value 0: < 50% diameter narrowing\n",
    "        -- Value 1: > 50% diameter narrowing\n",
    "\n",
    "\n",
    "\n",
    "**Note**: The variable `num` ranges from 0-4 where 0 represents no presence of a decease, and values 1-4 indicate a presence of decease where the severity increases as the value increases."
   ]
  },
  {
   "cell_type": "markdown",
   "id": "e6533d51-426f-4803-8e2c-1051b5eeb6d9",
   "metadata": {},
   "source": [
    "## Preliminary Exploratory Data Analysis\n",
    "\n",
    "### Installation\n",
    "\n",
    "Before beginning the analysis the library `cowplot` must be installed. To install the library run the install cell below."
   ]
  },
  {
   "cell_type": "code",
   "execution_count": null,
   "id": "d994ac21-7308-4879-b13c-2b569d7ec1f3",
   "metadata": {
    "tags": []
   },
   "outputs": [],
   "source": [
    "install.packages(\"cowplot\") "
   ]
  },
  {
   "cell_type": "markdown",
   "id": "d9965628-c60e-477c-98ed-3c7d7b07409a",
   "metadata": {
    "tags": []
   },
   "source": [
    "### Libraries\n",
    "\n",
    "Next we will import the libraries `tidyverse`, `tidymodels`, `dplyr`, `repr`, and \n",
    "the previously installed `cowplot`. \n",
    "\n",
    "These libraries will be used to read, clean, split, summarize, and visualize the dataset. "
   ]
  },
  {
   "cell_type": "code",
   "execution_count": null,
   "id": "13af4643-a591-4d2e-8bc0-6b4a5d8f4ea1",
   "metadata": {
    "tags": []
   },
   "outputs": [],
   "source": [
    "library(tidyverse)\n",
    "library(tidymodels)\n",
    "library(dplyr)\n",
    "library(repr)\n",
    "library(cowplot)"
   ]
  },
  {
   "cell_type": "markdown",
   "id": "6b4e6408-d7a9-4a52-ada2-6e10a12480ab",
   "metadata": {},
   "source": [
    "### Reading Data\n",
    "\n",
    "The data is sourced from a UC Irvine Machine Learning Repository, found here https://archive.ics.uci.edu/dataset/45/heart+disease.\n",
    "\n",
    "The relevant files have been add to this repository's `data` directory and pushed to GitHub. This file will read \n",
    "the data file from the GitHub URL to the raw data. \n"
   ]
  },
  {
   "cell_type": "code",
   "execution_count": null,
   "id": "a4a4ecc7-5c7b-4fca-b777-d5e8d12b012a",
   "metadata": {
    "tags": []
   },
   "outputs": [],
   "source": [
    "# Create list of column names found in data/heart-disease.names\n",
    "column_names <- c(\"age\", \"sex\", \"cp\", \"trestbps\", \"chol\", \"fbs\", \"restecg\", \"thalach\", \"exang\", \"oldpeak\", \"slope\", \"ca\", \"thal\", \"num\")\n",
    "\n",
    "# Read in data\n",
    "dataset <- read_delim(\"https://raw.githubusercontent.com/tamzeedq/dsci-100_group_project/main/data/processed.cleveland.data\", delim = \",\", col_names = column_names)\n",
    "head(dataset, 5) # Preview first 5 rows"
   ]
  },
  {
   "cell_type": "markdown",
   "id": "8419c669-aee0-4fd6-a65b-1811a09f2ac0",
   "metadata": {},
   "source": [
    "### Tidying/Cleaning the Data\n",
    "\n",
    "Columns `ca` and `thal` are the only columns to have missing data, and since they are not relevant to our analysis we'll drop these two columns. Some column headers are also unclear, so we'll update the names that are relevant to our analysis to improve readability. Lastly, we will convert the columns representing chest pain type (`cp_type`) and presence of heart disease (`presence`) from numbers to factors. This is because they are both categorical variables that are being classified with correlated numbers; the columns don't actually represent a range of numbers.\n"
   ]
  },
  {
   "cell_type": "code",
   "execution_count": null,
   "id": "a37f7e26-1c8b-4b95-af47-913ffcdd7cfd",
   "metadata": {},
   "outputs": [],
   "source": [
    "updated_column_names <- c(\"age\", \"sex\", \"cp_type\", \"rest_bps\", \"chol\", \"fbs\", \"restecg\", \"max_heart_rate\", \"exang\", \"oldpeak\", \"slope\", \"ca\", \"thal\", \"presence\")\n",
    "\n",
    "colnames(dataset) <- updated_column_names # Updated the column names\n",
    "updated_dataset <- dataset |>\n",
    "            select(-ca, -thal) |> # Select every column except for ca and thal\n",
    "            mutate(cp_type = as_factor(cp_type), presence = as_factor(presence)) # Convert column datatypes\n",
    "\n",
    "head(updated_dataset, 5) # Preview first 5 rows"
   ]
  },
  {
   "cell_type": "markdown",
   "id": "32eb2840-cc38-4dd5-aae9-1c0df56240f1",
   "metadata": {},
   "source": [
    "### Split the Data\n",
    "\n",
    "The updated dataset is split into a training set and testing set, 75% of the data will be used to create a training set while the remaining 25% will be used to create a testing dataset.\n"
   ]
  },
  {
   "cell_type": "code",
   "execution_count": null,
   "id": "b7136713-a58d-4f97-aacd-70264520b893",
   "metadata": {
    "tags": []
   },
   "outputs": [],
   "source": [
    "data_split <- initial_split(updated_dataset, prop = 0.75, strata = presence)  \n",
    "training_data <- training(data_split)   \n",
    "testing_data <- testing(data_split)"
   ]
  },
  {
   "cell_type": "markdown",
   "id": "9fe759be-ca73-4454-ac6c-5ad32c742d26",
   "metadata": {},
   "source": [
    "### Summarize the Data\n",
    "\n",
    "We will do two things to summarize the training dataset. First, we will look at the count of rows for each category of the variable we wish to predict(`presence`). Second, we will look at the mean of the variables that we want to use to predict for `presence`: `age`, `rest_bps`, `chol`, `max_heart_rate`. \n",
    "\n",
    "**Note**: Although we want to use chest pain type (`cp_type`) as one of our predictor variables, it is a categorical variable therefore a mean value can not be found for it and won't be included in the mean table.  \n",
    "\n",
    "Let's start with finding the count of different categories for our response variable."
   ]
  },
  {
   "cell_type": "code",
   "execution_count": null,
   "id": "0668d315-7be1-4c17-a5a6-b82b92cd3dea",
   "metadata": {
    "tags": []
   },
   "outputs": [],
   "source": [
    "presence_count <- training_data |>\n",
    "                group_by(presence) |>\n",
    "                summarize(count = n())\n",
    "presence_count"
   ]
  },
  {
   "cell_type": "markdown",
   "id": "c94491b2-5e7f-4eed-aad4-9ea54aa52924",
   "metadata": {},
   "source": [
    "Finding the means of our quantitative predictor variables."
   ]
  },
  {
   "cell_type": "code",
   "execution_count": null,
   "id": "7b73dc4a-3058-4f4c-aaa9-06a9bf2a7bee",
   "metadata": {
    "tags": []
   },
   "outputs": [],
   "source": [
    "variable_means <- training_data |>\n",
    "summarize(mean_age=mean(age), mean_rest_bps=mean(rest_bps), mean_chol=mean(chol), mean_max_rate=mean(max_heart_rate))\n",
    "\n",
    "variable_means"
   ]
  },
  {
   "cell_type": "markdown",
   "id": "39cf05e2-5ebb-4702-8c7b-f0314fc24e8f",
   "metadata": {},
   "source": [
    "### Plotting the Data\n",
    "\n",
    "Due to having multiple predictor variables, creating a plot with all of our predictor variables together would make for an unclear plot. So below is a scatter plot proving an example of a plot to visualize the association between 3/5 of our predictor variables. The graph compares age and cholesterol on the x and y axis, and is classified by shapes that relate to different chest pains. The different colors represent the different classifications for our response variable (`presence`).\n",
    "\n",
    "Below the scatter plot are histograms to demonstrate the distribution of data that is being representing by our predictor variables in the training dataset."
   ]
  },
  {
   "cell_type": "code",
   "execution_count": null,
   "id": "f8aae044-bcd6-4b30-9afd-0147ea9baf7b",
   "metadata": {
    "tags": []
   },
   "outputs": [],
   "source": [
    "options(repr.plot.width = 8, repr.plot.height = 6)\n",
    "\n",
    "\n",
    "chest_pain_labels <- c(\"Typical Angina\", \"Atypical Angina\", \"Non-Anginal Pain\", \"Asymptomatic\")\n",
    "\n",
    "age_chol_plot <- training_data |>\n",
    "    ggplot(aes(x = age, \n",
    "               y = chol, \n",
    "               colour = presence,\n",
    "               shape = factor(cp_type, labels = chest_pain_labels))) +\n",
    "    labs(x = \"Age (Years)\",\n",
    "         y = \"Cholesterol (mg/dl)\",\n",
    "         colour = \"Presence\",\n",
    "         shape = \"Chest Pain Type\") +\n",
    "    geom_point(size = 2) +\n",
    "    ggtitle(\"Cholesterol vs Age\") +\n",
    "    theme(text = element_text(size = 20))\n",
    "\n",
    "age_chol_plot"
   ]
  },
  {
   "cell_type": "markdown",
   "id": "7e617056-b661-4387-870e-97cd2cf1ea8e",
   "metadata": {},
   "source": [
    "Distribution histograms"
   ]
  },
  {
   "cell_type": "code",
   "execution_count": null,
   "id": "e42f0d0b-b827-4884-b685-77995977cbb0",
   "metadata": {
    "tags": []
   },
   "outputs": [],
   "source": [
    "age_hist <- training_data |>\n",
    "        ggplot(aes(x = age)) +\n",
    "        geom_histogram() +\n",
    "        ggtitle(\"Age Distribution\")\n",
    "\n",
    "bps_hist <- training_data |>\n",
    "        ggplot(aes(x = rest_bps)) +\n",
    "        geom_histogram() +\n",
    "        ggtitle(\"Resting Blood Pressure Distribution\")\n",
    "\n",
    "chol_hist <- training_data |>\n",
    "        ggplot(aes(x = chol)) +\n",
    "        geom_histogram() + \n",
    "        ggtitle(\"Cholesterole Distribution\")\n",
    "\n",
    "\n",
    "heart_rate_hist <- training_data |>\n",
    "        ggplot(aes(x = max_heart_rate)) +\n",
    "        geom_histogram() + \n",
    "        ggtitle(\"Max Heart Rate Distribution\")\n",
    "\n",
    "options(repr.plot.width = 7, repr.plot.height = 7)\n",
    "plot_grid(age_hist, bps_hist, chol_hist, heart_rate_hist, ncol = 2, nrow=2)"
   ]
  },
  {
   "cell_type": "markdown",
   "id": "97999dd9-ebd4-4ee5-af02-54690a1c8a76",
   "metadata": {},
   "source": [
    "## Methods\n",
    "\n",
    "We will conduct our data analysis by building a K-Nearest Neighbors classification model to predict for the presence of heart disease. We will use the variables Age, Resting Blood Pressure (mm Hg), Cholesterol (mg/dl), Max Heart Rate, and Type of Chest Pain as our predictors and predict for the `presence` variable (previously named `num`).\n",
    "\n",
    "The data will first be tidied/cleaned, and split into a training and testing set similar to how it was done previously. The model will then be trained on the training set and we will perform tuning and cross validation to find an optimal number of neighbors to ensure the best accuracy. \n",
    "\n",
    "\n",
    "This model will be visualized using multiple 2D scatter plots to visualize relationships between each of the predictors. Whether or not a point is affected by heart disease will be colored differently to distinctly classify the observation."
   ]
  },
  {
   "cell_type": "markdown",
   "id": "c868d82c-2408-47bb-a0cb-f51762175886",
   "metadata": {},
   "source": [
    "## Expected Outcomes and Significance\n",
    "\n",
    "We expect to find a relationship between age, cholesterol, heart rate, blood pressure, and chest pain which we can use to accurately classify the risk of heart disease. We hope that our model and analysis could be used by medical professionals in hospitals and clinics to aid in their diagnostics and patient care.\n",
    "\n",
    "Our analysis can potentially lead to further questions such as what other types of heart diseases could be classified using similar predictors? Moreover, how can we use these variables to establish health norm ranges for optimal cardiovascular health? For example, asserting that at a specific age, one should try to be below a certain cholesterol level or blood pressure.   \n"
   ]
  },
  {
   "cell_type": "code",
   "execution_count": null,
   "id": "c7e5f16b-2e1d-404d-ab64-a5ad366ae932",
   "metadata": {},
   "outputs": [],
   "source": []
  }
 ],
 "metadata": {
  "kernelspec": {
   "display_name": "R",
   "language": "R",
   "name": "ir"
  },
  "language_info": {
   "codemirror_mode": "r",
   "file_extension": ".r",
   "mimetype": "text/x-r-source",
   "name": "R",
   "pygments_lexer": "r",
   "version": "4.2.2"
  }
 },
 "nbformat": 4,
 "nbformat_minor": 5
}
