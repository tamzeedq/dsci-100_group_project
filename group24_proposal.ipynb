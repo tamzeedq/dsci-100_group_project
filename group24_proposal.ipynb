{
 "cells": [
  {
   "cell_type": "markdown",
   "id": "67e15d98-6c50-4ac7-8e3a-c92aa5292988",
   "metadata": {},
   "source": [
    "# Classify Water Potability \n",
    "\n",
    "### DSCI 100 004 Group 24 Proposal"
   ]
  },
  {
   "cell_type": "code",
   "execution_count": null,
   "id": "d994ac21-7308-4879-b13c-2b569d7ec1f3",
   "metadata": {},
   "outputs": [],
   "source": []
  }
 ],
 "metadata": {
  "kernelspec": {
   "display_name": "R",
   "language": "R",
   "name": "ir"
  },
  "language_info": {
   "codemirror_mode": "r",
   "file_extension": ".r",
   "mimetype": "text/x-r-source",
   "name": "R",
   "pygments_lexer": "r",
   "version": "4.2.2"
  }
 },
 "nbformat": 4,
 "nbformat_minor": 5
}
