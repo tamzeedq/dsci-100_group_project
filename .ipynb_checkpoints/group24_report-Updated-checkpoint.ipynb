{
 "cells": [
  {
   "cell_type": "markdown",
   "id": "0d712714-d662-43ec-bbdb-7f4a6a89fb6e",
   "metadata": {},
   "source": [
    "# Classifying presence  of Angiographic Heart Disease  \n",
    "\n",
    "### DSCI 100 004 Group 24 Report"
   ]
  },
  {
   "cell_type": "markdown",
   "id": "6c4b4325-53f6-42eb-966d-681d6be26f21",
   "metadata": {},
   "source": [
    "## Introduction\n",
    "\n",
    "### Background\n",
    "Heart diseases are conditions that affect the heart's structure and function. They can develop into a serious stage and threaten someone’s life, so it is very important to make an early diagnosis and apply treatment as soon as possible. Heart diseases come in many different forms: coronary artery disease, heart rhythm disorders, heart valve disease, cardiomyopathy, congenital heart disease, pericardium, and heart failure. In our research, we will be analyzing coronary angiography disease which is the narrowing of blood vessels and constriction of proper blood flow.\n",
    "\n",
    "### Question\n",
    "Can we use classification to classify the presence and severity of angiographic disease in a patient based on their age, sex, resting blood pressure, cholesterol level, maximum heart rate, and chest pain?    \n",
    "\n",
    "### Dataset \n",
    "The dataset is collected by researchers in hospitals from Cleveland, Hungary, Long Beach California, and Switzerland. The dataset can be found here https://archive.ics.uci.edu/dataset/45/heart+disease. The dataset orignally contained 76 attributes but researchers have reduced it to 14 attributes. Them being,\n",
    "- `age` \n",
    "- `sex`\n",
    "\n",
    "        -- Value 1: Male\n",
    "        -- Value 2: Female\n",
    "- `cp` - chest pain type\n",
    "\n",
    "        -- Value 1: typical angina\n",
    "        -- Value 2: atypical angina\n",
    "        -- Value 3: non-anginal pain\n",
    "        -- Value 4: asymptomatic\n",
    "- `trestbps` - resting blood pressure (in mm Hg on admission to the hospital)\n",
    "- `chol` - serum cholesterol in mg/dl\n",
    "- `fbs`- (fasting blood sugar > 120 mg/dl)  (1 = true; 0 = false)\n",
    "- `restecg` - resting electrocardiographic results\n",
    "\n",
    "        -- Value 0: normal\n",
    "        -- Value 1: having ST-T wave abnormality \n",
    "        -- Value 2: showing probable or definite left ventricular hypertrophy\n",
    "\n",
    "- `thalach` -maximum heart rate achieved\n",
    "- `exang` - exercise induced angina (1 = yes; 0 = no)\n",
    "- `oldpeak` - ST depression induced by exercise relative to rest\n",
    "- `slope` - the slope of the peak exercise ST segment\n",
    "\n",
    "        -- Value 1: upsloping\n",
    "        -- Value 2: flat\n",
    "        -- Value 3: downsloping\n",
    "- `ca` - number of major vessels (0-3)\n",
    "- `thal`\n",
    "\n",
    "        -- Value 3: normal\n",
    "        -- Value 6: fixed defect\n",
    "        -- Value 7: reversable defect\n",
    "- `num` -diagnosis of heart disease (angiographic disease status)\n",
    "\n",
    "        -- Value 0: < 50% diameter narrowing\n",
    "        -- Value 1: > 50% diameter narrowing\n",
    "\n",
    "\n",
    "\n",
    "**Note**: The variable `num` ranges from 0-4 where 0 represents no presence of a disease , and values 1-4 indicate a presence of disease  where the severity increases as the value increases."
   ]
  },
  {
   "cell_type": "markdown",
   "id": "c82d8171-dcab-487b-94f9-91de2ee97192",
   "metadata": {},
   "source": [
    "## Method\n",
    "\n",
    "We will conduct our data analysis by building a K-Nearest Neighbors classification model to predict for the presence of heart disease. We will use the variables Age, Sex, Resting Blood Pressure (mm Hg), Cholesterol (mg/dl), Max Heart Rate, and Type of Chest Pain as our predictors and predict for the presence of heart disease in a patient.\n",
    "\n",
    "**Reasoning for predictor variables:**\n",
    "\n",
    "**Age:** We chose age to be a predictor as many studies show that increasing age is a risk factor for heart disease. People of older age, around 65 and older are more likely to develop coronary heart disease. This is because aging can cause changes in the heart and blood vessels. Many changes to the heart happen with an increase in age, for example, buildup of fatty deposits in the arteries and increased stiffness of the arteries. Furthermore, over time  the heart muscle inevitably weakens making it more at risk to suffer from heart disease. Overall, it is evident that increasing age leads to an increased chance of developing heart disease which is why we are using age as a predictor for our project.\n",
    "\n",
    "**Chest Pain:** We are using chest pain as a predictor as it is a common symptom many doctors use to identify patients that may possibly have coronary heart disease.\n",
    "\n",
    "**High blood pressure:** We are using blood pressure as a predictor as several medical studies show how having high blood pressure is one of greatest risk factors for heart disease. According to the United States National Library of medicine, “High Blood Pressure is an important risk factor for heart failure, atrial fibrillation, chronic kidney disease, heart valve diseases, aortic syndromes and dementia, in addition to coronary heart disease and stroke.”(Fuchs and Whelton) This shows how those with high blood pressure are not only at risk for heart disease, but also more at risk for disease in general.\n",
    "\n",
    "**Serum Cholesterol:** High serum cholesterol has been tested to be one of the risk factors for coronary heart disease and mortality caused by the disease. Therefore it is used as a predictor.\n",
    "\n",
    "**Sex:** We chose sex as one predictor as the sex and age combining affect the mortality of coronary artery disease. The mortality of women increases as aging, but the mortality of men is always higher than women.\n",
    "\n",
    "**Max heart rate:** We are using maximum heart rate as a predictor variable as seeing whether or not one can reach their maximum heart rate can predict coronary heart disease. Many studies have shown that those with coronary heart disease are unable to reach their age-specific maximum heart rate. Hence, those unable to reach their age predicted max heart rate are likely to be due to coronary heart disease.\n",
    "\n",
    "\n",
    "The data will first be tidied/cleaned, and split into a training and testing. We will summarize and visualize some trends in the data so that it can be better understood and build context to what kind of data we are working with.\n",
    "\n",
    "The model will be trained on the training set and we will perform tuning and cross validation to find an optimal number of neighbors to ensure the best accuracy. Then, we will create a final model with the optimal neighbors and run the new model on the testing set. We will then collect the metrics and organize it in a table and a graph to see the performance and accuracy of the model in achieving the goal.\n",
    "\n",
    "### Installation\n",
    "\n",
    "Before beginning the analysis the libraries `cowplot`, `kknn`, and `GGally` must be installed. To install the library run the install cell below."
   ]
  },
  {
   "cell_type": "code",
   "execution_count": 2,
   "id": "d55c71b8-38b4-45ce-822c-ea927552fe85",
   "metadata": {
    "tags": []
   },
   "outputs": [
    {
     "name": "stderr",
     "output_type": "stream",
     "text": [
      "Updating HTML index of packages in '.Library'\n",
      "\n",
      "Making 'packages.html' ...\n",
      " done\n",
      "\n",
      "Updating HTML index of packages in '.Library'\n",
      "\n",
      "Making 'packages.html' ...\n",
      " done\n",
      "\n"
     ]
    },
    {
     "ename": "ERROR",
     "evalue": "Error in install.package(\"GGally\"): could not find function \"install.package\"\n",
     "output_type": "error",
     "traceback": [
      "Error in install.package(\"GGally\"): could not find function \"install.package\"\nTraceback:\n"
     ]
    }
   ],
   "source": [
    "install.packages(\"cowplot\")\n",
    "install.packages(\"kknn\")\n",
    "install.packages(\"GGally\")"
   ]
  },
  {
   "cell_type": "markdown",
   "id": "bac14e29-7cf3-4771-a501-45c0a6359741",
   "metadata": {},
   "source": [
    "### Libraries\n",
    "\n",
    "Next we will import the libraries `tidyverse`, `tidymodels`, `dplyr`, `repr`, and \n",
    "the previously installed `cowplot`, `kknn`, and `GGally`. \n",
    "\n",
    "These libraries will be used to read, clean, split, summarize, and visualize the dataset. They will also be used for the methods section when we create our analysis model. "
   ]
  },
  {
   "cell_type": "code",
   "execution_count": null,
   "id": "5fd83860-24c7-4c8b-bd63-a790fbad3677",
   "metadata": {},
   "outputs": [],
   "source": [
    "library(tidyverse)\n",
    "library(tidymodels)\n",
    "library(dplyr)\n",
    "library(repr)\n",
    "library(cowplot)\n",
    "library(kknn)\n",
    "library(GGally)"
   ]
  },
  {
   "cell_type": "markdown",
   "id": "bc4e4862-6798-4029-be5e-9308205ab2d0",
   "metadata": {
    "tags": []
   },
   "source": [
    "### Reading Data\n",
    "The data is sourced from a UC Irvine Machine Learning Repository, found here https://archive.ics.uci.edu/dataset/45/heart+disease.\n",
    "\n",
    "The relevant files have been add to this repository's `data` directory and pushed to GitHub. This file will read the data file from the GitHub URL to the raw data. The column names can be found in the heart-disease.names file in the `data` directory. "
   ]
  },
  {
   "cell_type": "code",
   "execution_count": null,
   "id": "5c54fc97-a284-4fa3-943a-3ea770fd9f7f",
   "metadata": {
    "tags": []
   },
   "outputs": [],
   "source": [
    "set.seed(1234) # Seed value\n",
    "\n",
    "# Create list of column names found in data/heart-disease.names\n",
    "column_names <- c(\"age\", \"sex\", \"cp\", \"trestbps\", \"chol\", \"fbs\", \"restecg\", \"thalach\", \"exang\", \"oldpeak\", \"slope\", \"ca\", \"thal\", \"num\")\n",
    "\n",
    "# Read in data\n",
    "dataset <- read_delim(\"https://raw.githubusercontent.com/tamzeedq/dsci-100_group_project/main/data/processed.cleveland.data\", delim = \",\", col_names = column_names)\n",
    "head(dataset, 5) # Preview first 5 rows"
   ]
  },
  {
   "cell_type": "markdown",
   "id": "7155455a-52bc-449a-a80f-848fce9e6cd5",
   "metadata": {},
   "source": [
    "*Table 1 - The Original Dataset*"
   ]
  },
  {
   "cell_type": "markdown",
   "id": "dd6d3752-bef5-4c7a-a0bc-2b8cda7ef4b6",
   "metadata": {},
   "source": [
    "### Tidying/Wrangling the Data\n",
    "\n",
    "Columns `ca` and `thal` are the only columns to have missing data, and since they are not relevant to our analysis we'll drop these two columns. Some column headers are also unclear, so we'll update the names that are relevant to our analysis to improve readability. \n",
    "\n",
    "We will also convert the column representing presence of heart disease (`presence`) from numbers ranging form 0-4 to instead be binary with \"TRUE\" representing or \"FALSE\" representing no presence . This is because, as seen below, there isn't an equal spread among all the classes of presence. \n"
   ]
  },
  {
   "cell_type": "code",
   "execution_count": null,
   "id": "ccb5fc36-6a84-4bfa-9625-95924ea593b1",
   "metadata": {
    "tags": []
   },
   "outputs": [],
   "source": [
    "# Get the counts of each presence type\n",
    "presence_count <- dataset |>\n",
    "                group_by(num) |> # Column indicating presence is called num in original dataset\n",
    "                summarize(count = n())\n",
    "presence_count"
   ]
  },
  {
   "cell_type": "markdown",
   "id": "9b451911-a019-4ea6-8cc5-00c10651c1b8",
   "metadata": {},
   "source": [
    "*Table 1.1 - The count of each type of presence in each presence type indicating imbalance in the data*"
   ]
  },
  {
   "cell_type": "code",
   "execution_count": null,
   "id": "6dd71e43-c109-42fc-837e-796917599502",
   "metadata": {
    "tags": []
   },
   "outputs": [],
   "source": [
    "updated_column_names <- c(\"age\", \"sex\", \"cp_type\", \"rest_bps\", \"chol\", \"fbs\", \"restecg\", \"max_heart_rate\", \"exang\", \"oldpeak\", \"slope\", \"ca\", \"thal\", \"presence\")\n",
    "\n",
    "colnames(dataset) <- updated_column_names # Updated the column names\n",
    "updated_dataset <- dataset |>\n",
    "            select(-ca, -thal) |> # Select every column except for ca and thal\n",
    "            mutate(presence = as_factor(presence != 0)) # Convert reponse variable column datatype\n",
    "\n",
    "head(updated_dataset, 5) # Preview first 5 rows"
   ]
  },
  {
   "cell_type": "markdown",
   "id": "9fc78ba9-f3f1-4fc7-8725-f9e4864a2ca9",
   "metadata": {},
   "source": [
    "*Table 2 - Updated Dataset after tidying and wrangling*"
   ]
  },
  {
   "cell_type": "markdown",
   "id": "cc4f33f5-c71d-4d89-9c5a-61869f508b9a",
   "metadata": {},
   "source": [
    "### Split the Data\n",
    "\n",
    "The updated dataset is split into a training set and testing set, 75% of the data will be used to create a training set while the remaining 25% will be used to create a testing dataset."
   ]
  },
  {
   "cell_type": "code",
   "execution_count": null,
   "id": "7706440e-b243-4314-b715-0125e2d18e77",
   "metadata": {
    "tags": []
   },
   "outputs": [],
   "source": [
    "set.seed(1234) # Seed for random split\n",
    "\n",
    "# Split the data into a training and testing set\n",
    "data_split <- initial_split(updated_dataset, prop = 0.75, strata = presence)  \n",
    "training_data <- training(data_split)   \n",
    "testing_data <- testing(data_split)"
   ]
  },
  {
   "cell_type": "markdown",
   "id": "c6fe1fcf-992e-40a1-bf4b-074cda21843b",
   "metadata": {},
   "source": [
    "### Data Summary\n",
    "\n",
    "We will do two things to summarize the training dataset. First, we will look at the count of rows for each category of the variable we wish to predict(`presence`). Second, we will look at the mean of the quantitative variables that we want to use to predict for `presence`: `age`, `rest_bps`, `chol`, `max_heart_rate`. \n",
    "\n",
    "**Note**: Although we want to use `cp_type`(chest pain type) and `sex` as our predictor variables, they are categorical variables therefore a mean value can not be found for it and won't be included in the mean table.  "
   ]
  },
  {
   "cell_type": "code",
   "execution_count": null,
   "id": "f899e93b-1b64-4b51-94ff-7555995dad3f",
   "metadata": {
    "tags": []
   },
   "outputs": [],
   "source": [
    "# Count the number of rows for each class of presence (True or False)\n",
    "presence_count <- training_data |>\n",
    "                group_by(presence) |>\n",
    "                summarize(count = n())\n",
    "presence_count\n",
    "\n",
    "# Calculate the mean values of the quantitative variables\n",
    "variable_means <- training_data |>\n",
    "            summarize(mean_age=mean(age), \n",
    "                      mean_rest_bps=mean(rest_bps), \n",
    "                      mean_chol=mean(chol), \n",
    "                      mean_max_rate=mean(max_heart_rate))\n",
    "variable_means"
   ]
  },
  {
   "cell_type": "markdown",
   "id": "7830d21d-8367-4d8a-b294-1776f6ad3148",
   "metadata": {},
   "source": [
    "*Table 3/4 - Dataset Summaries*"
   ]
  },
  {
   "cell_type": "markdown",
   "id": "77d9688a-fa7a-4046-b18f-aef4fd5ca5e0",
   "metadata": {},
   "source": [
    "### Data Visuals\n",
    "\n",
    "Due to having multiple predictor variables, creating a plot with all of our predictor variables together would make for an unclear plot. So below is a scatter plot proving an example of a plot to visualize the association between some our predictor variables. The graph compares age against cholesterol, max heart rate, and resting blood pressure, and is classified by shapes that relate to different chest pains. The different colors represent the different classifications for our response variable (`presence`)."
   ]
  },
  {
   "cell_type": "code",
   "execution_count": null,
   "id": "960c2f81-242a-4cc1-989a-20ad11186080",
   "metadata": {
    "tags": []
   },
   "outputs": [],
   "source": [
    "options(repr.plot.width = 12, repr.plot.height = 8)\n",
    "\n",
    "chest_pain_labels <- c(\"Typical Angina\", \"Atypical Angina\", \"Non-Anginal Pain\", \"Asymptomatic\")\n",
    "\n",
    "age_chol_plot <- training_data |>\n",
    "    ggplot(aes(x = age, \n",
    "               y = chol, \n",
    "               colour = presence,\n",
    "               shape = factor(cp_type, labels = chest_pain_labels))) +\n",
    "    labs(x = \"Age (Years)\",\n",
    "         y = \"Cholesterol (mg/dl)\",\n",
    "         colour = \"Presence\",\n",
    "         shape = \"Chest Pain Type\") +\n",
    "    geom_point(size = 2) +\n",
    "    ggtitle(\"Cholesterol vs Age\") +\n",
    "    theme(text = element_text(size = 12))\n",
    "\n",
    "age_rest_bps_plot <- training_data |>\n",
    "    ggplot(aes(x = age, \n",
    "               y = rest_bps, \n",
    "               colour = presence,\n",
    "               shape = factor(cp_type, labels = chest_pain_labels))) +\n",
    "    labs(x = \"Age (Years)\",\n",
    "         y = \"Resting Blood Pressure (mm HG)\",\n",
    "         colour = \"Presence\",\n",
    "         shape = \"Chest Pain Type\") +\n",
    "    geom_point(size = 2) +\n",
    "    ggtitle(\"Resting Blood Pressure vs Age\") +\n",
    "    theme(text = element_text(size = 12))\n",
    "\n",
    "age_max_heart_rate_plot <- training_data |>\n",
    "    ggplot(aes(x = age, \n",
    "               y = max_heart_rate, \n",
    "               colour = presence,\n",
    "               shape = factor(cp_type, labels = chest_pain_labels))) +\n",
    "    labs(x = \"Age (Years)\",\n",
    "         y = \"Max Heart Rate (BPM)\",\n",
    "         colour = \"Presence\",\n",
    "         shape = \"Chest Pain Type\") +\n",
    "    geom_point(size = 2) +\n",
    "    ggtitle(\"Max Heart Rate vs Age\") +\n",
    "    theme(text = element_text(size = 12))\n",
    "\n",
    "plot_grid(age_chol_plot, age_rest_bps_plot, age_max_heart_rate_plot, ncol = 2, nrow=2)"
   ]
  },
  {
   "cell_type": "markdown",
   "id": "211a36ec-d793-45f4-b7b1-05e818d2adcd",
   "metadata": {},
   "source": [
    "*Figure 1 - Visualizing spread and potential trends in the dataset*"
   ]
  },
  {
   "cell_type": "markdown",
   "id": "ea94706a-f2b9-43bd-8d98-6f11bc1e0ca7",
   "metadata": {
    "tags": []
   },
   "source": [
    "We then use `ggpair` plot to show the different relationships the predictors have with each other and how much that factors into the prediction of presence.\n",
    "\n",
    "Results show that rest bps and cholesterol doesn't correlate with the presence or each other very much. As a contrast, age and max heart rate correlates negatively with each other and also show higher positive results with greater age or lower max heart rate. \n",
    "\n",
    "It is also worth mentioning cp type 4 has the most positive results in contrast to the negative results which peaks at cp type 3."
   ]
  },
  {
   "cell_type": "code",
   "execution_count": null,
   "id": "ea3e7532-a952-4bbd-850c-6a0a01258ff8",
   "metadata": {},
   "outputs": [],
   "source": [
    "options(repr.plot.width=10, repr.plot.height=6)\n",
    "training_data |> select(presence,age,rest_bps,chol,max_heart_rate,cp_type) |> ggpairs(legend=1, columns = c(2,3,4,5,6), ggplot2::aes(color = presence, alpha = 0.2)) +\n",
    "labs(fill = \"Presence of Heart Disease\")"
   ]
  },
  {
   "cell_type": "markdown",
   "id": "2c0cfd02-e614-4b33-ade5-649971e0f7cd",
   "metadata": {
    "tags": []
   },
   "source": [
    "*Figure 2 - Visualizing predictors using `ggpair`*"
   ]
  },
  {
   "cell_type": "markdown",
   "id": "6db88f43-cad8-4b68-8c78-82a8c9b2e97c",
   "metadata": {},
   "source": [
    "By analyzing pair graph and scatter plots, we could see that the relationship between `age` and `presence`, and relationship between `max heart rate` and `presence` are relatively strong. The relationship between `resting blood pressure` and `presence`, the relationship between `cholesterol`and `presence`, the relationship between `chest pain type` and `presence` are weaker. "
   ]
  },
  {
   "cell_type": "markdown",
   "id": "590e4f04-8d14-4551-afb1-75331c1187d5",
   "metadata": {
    "tags": []
   },
   "source": [
    "## Model\n",
    "\n",
    "After achieving some understanding of the dataset, we are ready to start building the model. In *Figure 1* there are weak trends that can be seen when analyzing a few variables at a time, but overall the data is quite scattered. This is why we will be using multiple predictor variables to ensure more accurate results.\n",
    "\n",
    "As mentioned earlier, we will use the variables Age, Sex, Resting Blood Pressure (mm Hg), Cholesterol (mg/dl), Max Heart Rate, and Type of Chest Pain as our predictors and predict for the presence of heart disease in a patient. In the cell below we will create the Spec and Recipe for our model. An important thing to note is that we will scale/normalize all our predictors to ensure that the distance calculations made by the KNN model are not biased by a particular predictor variable. Also, cross validation can be a random process so we set the seed to ensure reproducibility of the results."
   ]
  },
  {
   "cell_type": "code",
   "execution_count": null,
   "id": "cac191c5-443d-4c33-9e4d-60e79ee03722",
   "metadata": {
    "tags": []
   },
   "outputs": [],
   "source": [
    "# Build Spec\n",
    "knn_spec <- nearest_neighbor(weight_func=\"rectangular\", neighbors=tune()) |>\n",
    "            set_engine(\"kknn\") |>\n",
    "            set_mode(\"classification\")\n",
    "\n",
    "# Build Recipe\n",
    "knn_recipe <- recipe(presence ~ age + sex + rest_bps + chol + max_heart_rate + cp_type, data = training_data)|>\n",
    "            step_center(all_predictors())|>\n",
    "            step_scale(all_predictors())"
   ]
  },
  {
   "cell_type": "markdown",
   "id": "0dca0b9a-6785-4e13-86cb-5bc1f1244129",
   "metadata": {},
   "source": [
    "Next we set up our model in a workflow with cross validation. The cross validation is set up for a 5 fold cross validation and will test for k values from 1-15."
   ]
  },
  {
   "cell_type": "code",
   "execution_count": null,
   "id": "0c5ab117-84e2-420c-b14e-97949287f7bc",
   "metadata": {
    "tags": []
   },
   "outputs": [],
   "source": [
    "set.seed(1234)\n",
    "\n",
    "# Cross validate to find optimal K\n",
    "knn_vfold <- vfold_cv(training_data, v = 5, strata = presence)\n",
    "k_vals <- tibble(neighbors = seq(from=1, to=15, by=1))\n",
    "\n",
    "knn_fit <- workflow() |>\n",
    "    add_recipe(knn_recipe) |>\n",
    "    add_model(knn_spec) |>\n",
    "    tune_grid(resamples = knn_vfold, grid = k_vals)"
   ]
  },
  {
   "cell_type": "markdown",
   "id": "3a50bf7f-8f99-443f-bd30-15a3f22c037e",
   "metadata": {},
   "source": [
    "Let's check the accuracy of our model at different k values."
   ]
  },
  {
   "cell_type": "code",
   "execution_count": null,
   "id": "3692922e-044b-4969-b5bb-c42b386019b3",
   "metadata": {
    "tags": []
   },
   "outputs": [],
   "source": [
    "set.seed(1234)\n",
    "\n",
    "#Check the accuracy of the model at various K\n",
    "knn_results <- knn_fit |>\n",
    "collect_metrics()\n",
    "\n",
    "knn_accuracy <- knn_results |> \n",
    "      filter(.metric == \"accuracy\")\n",
    "\n",
    "options(repr.plot.width = 5, repr.plot.height = 5)\n",
    "accuracy_versus_k <- ggplot(knn_accuracy, aes(x = neighbors, y = mean))+\n",
    "      geom_point() +\n",
    "      geom_line() +\n",
    "      labs(x = \"Neighbors\", y = \"Mean\") +\n",
    "      ggtitle(\"K Value Accuracy\") +\n",
    "      scale_x_continuous(breaks = seq(0, 14, by = 1)) +  # adjusting the x-axis\n",
    "      scale_y_continuous(limits = c(0.4, 1.0)) # adjusting the y-axis\n",
    "\n",
    "accuracy_versus_k"
   ]
  },
  {
   "cell_type": "markdown",
   "id": "cd668dd7-baa1-42a1-8234-f3d94e733cc2",
   "metadata": {},
   "source": [
    "*Table 5 - Accuracy at different values for neighbors*"
   ]
  },
  {
   "cell_type": "markdown",
   "id": "399a0f0d-6fb6-4073-9cb3-a9df1da341ed",
   "metadata": {
    "tags": []
   },
   "source": [
    "### Result\n",
    "\n",
    "Based on our cross validation we found that the optimal number of neighbors is 7 which yielded the highest accuracy. Let's make our final model and analyze it's performance against the training dataset."
   ]
  },
  {
   "cell_type": "code",
   "execution_count": null,
   "id": "a1efcc0d-09f3-47dd-b5be-4b6be4c6a727",
   "metadata": {
    "tags": []
   },
   "outputs": [],
   "source": [
    "# Make new model\n",
    "potential_k_spec <- nearest_neighbor(weight_func=\"rectangular\", neighbors=7)|>\n",
    "                    set_engine(\"kknn\")|>\n",
    "                    set_mode(\"classification\")\n",
    "\n",
    "fit_potential_k <- workflow()|>\n",
    "                    add_recipe(knn_recipe)|>\n",
    "                    add_model(potential_k_spec)|>\n",
    "                    fit(data=training_data)\n",
    "\n",
    "# Run Predictions\n",
    "potential_k_prediction <- predict(fit_potential_k, testing_data)|>\n",
    "                        bind_cols(testing_data)\n",
    "\n",
    "# Check results\n",
    "confusion_potential_k <- potential_k_prediction|>\n",
    "                        conf_mat(truth=presence, estimate=.pred_class)\n",
    "confusion_potential_k\n",
    "\n",
    "accuracy_potential_k <- potential_k_prediction |>\n",
    "                        metrics(truth = presence, estimate = .pred_class) |>\n",
    "                        filter(.metric == \"accuracy\")\n",
    "accuracy_potential_k"
   ]
  },
  {
   "cell_type": "markdown",
   "id": "cd55bad1-2eba-4e01-bbbe-1b83c4c1186c",
   "metadata": {},
   "source": [
    "*Table 6/7 - Model Confusion Matrix & Final model prediction accuracy (72.37%)*"
   ]
  },
  {
   "cell_type": "code",
   "execution_count": null,
   "id": "37009bf8-7031-494a-b31b-24a1272f8b1a",
   "metadata": {
    "tags": []
   },
   "outputs": [],
   "source": [
    "# Visualize the confusion matrix as a graph\n",
    "options(repr.plot.width = 6, repr.plot.height = 6)\n",
    "\n",
    "categories <- c(\"TRUE\", \"FALSE\", \"TRUE\", \"FALSE\")\n",
    "count <- c(30, 25, 10, 11)\n",
    "prediction <- c(\"Correct\", \"Correct\", \"Incorrect\", \"Incorrect\")\n",
    "\n",
    "results_df <- data.frame(categories, count, prediction)\n",
    "\n",
    "classification_results_plot <- results_df |>\n",
    "    ggplot(aes(x = categories, y = count, fill = prediction)) +\n",
    "    geom_bar(stat = \"identity\", width = 0.5) + \n",
    "    ggtitle(\"Confusion Prediction Graph\") + \n",
    "    labs(x = \"Class\", y = \"Number of Classifications\", fill = \"Classification Result\") +\n",
    "    theme(text = element_text(size = 12))\n",
    "\n",
    "classification_results_plot"
   ]
  },
  {
   "cell_type": "markdown",
   "id": "a9bae4e0-13ae-4410-85fd-aa925ad63387",
   "metadata": {},
   "source": [
    "*Figure 3 - Confusion matrix visualized as a graph*"
   ]
  },
  {
   "cell_type": "markdown",
   "id": "51229b88-3b4d-4915-97f3-b14f2c7edf4e",
   "metadata": {},
   "source": [
    "# Discussion\n",
    "The performance of our model is surprising. The accuracy of our model is 72.37%. And the recall of our model is 71.42% with presence of heart disease as the positive variable (presence). Both of them are higher than expected. We were expecting an accuracy around 60% as we were limited by the number of quantitative variables to use as predictors in our dataset. The unexpected high accuracy and recall of our model indicates that there is a potential to use classification models in diagnosing the presence of coronary artery disease. The models can be helpful to detect a general presence of coronary artery disease in potential patients, saving more time for the medical team and the patients. Also, by examining the result, we can see that the variables we have chosen are significant to detecting coronary artery disease and result in a better success rate than a 50/50 guess. Furthermore, they are relatively easy to measure with simple blood tests and heart check-ups. Therefore, doctors can test patients with resources that are easier to access to achieve a quicker diagnosis and aid to their decision making of if they are under risk of coronary artery disease, and can look for professional medical help immediately. In addition, from our predictions of testing data using k-nearest neighbors, we are curious about what other algorithms or variables could be used to achieve a higher accuracy than our k-nearest neighbors model on predicting the presence of heart disease. Variables such as average heart rate or if the patient is a smoker, are types of data that could be useful but were not present in our dataset. Since not all of the data in the dataset were included due to a lot of missing measurements and the levels of heart disease were ignored when we built the model, we could not see the complete effectiveness of classification algorithms on predicting heart disease. Overall, involving classification models in diagnosis of coronary artery disease is possible. \n"
   ]
  },
  {
   "cell_type": "markdown",
   "id": "02e87d8e-b9d2-414a-9f64-e5b4350be5f8",
   "metadata": {},
   "source": [
    "# Works Cited / References\n",
    "Bots, Sophie, et al. “Sex differences in coronary heart disease and stroke mortality: a global assessment of the effect of ageing between 1980 and 2010”. BML Global Health, BML Journals, 27 March, 2017, https://gh.bmj.com/content/2/2/e000298.info. Accessed 7 December 2023. \n",
    "\n",
    "Haasenritter, Jörg, et al. “Does the patient with chest pain have a coronary heart disease? Diagnostic value of single symptoms and signs – a meta-analysis.” National Library of Medicine, PubMed Central, https://www.ncbi.nlm.nih.gov/pmc/articles/PMC3490454/. Accessed 7 December 2023.\n",
    "\n",
    "Hill, Joseph A. “Under pressure: How blood pressure affects heart disease risk | Heart.” UT Southwestern Medical Center, 6 June 2016, https://utswmed.org/medblog/high-blood-pressure-heart-disease/. Accessed 7 December 2023.\n",
    "\n",
    "Jousilahti, Pekka, et al. “Serum Cholesterol Distribution and Coronary Heart Disease Risk.” AHA Journals, 24 March 1998, https://www.ahajournals.org/doi/full/10.1161/01.cir.97.11.1087. Accessed 7 December 2023.\n",
    "\n",
    "Malakar, Arup Kr, et al. “A review on coronary artery disease, its risk factors, and therapeutics.” Wiley Online Library, 20 February 2019, https://onlinelibrary.wiley.com/doi/full/10.1002/jcp.28350. Accessed 7 December 2023.\n",
    "\n",
    "National Institute on Aging. “Heart Health and Aging | National Institute on Aging.” National Institute on Aging, 1 June 2018, https://www.nia.nih.gov/health/heart-health/heart-health-and-aging. Accessed 7 December 2023.\n",
    "\n",
    "Okrainec, Karen, et al. “Coronary Artery Disease in the Developing World.” ScienceDirect, Elsevier, 22 June 2004, https://www.sciencedirect.com/science/article/pii/S0002870304002042. Accessed 7 December 2023.\n",
    "\n",
    "Veitch, John. “HIGH BLOOD PRESSURE AND CARDIOVASCULAR DISEASE - PMC.” National Library of Medicine, PubMed Central, 23 December 2019, https://www.ncbi.nlm.nih.gov/pmc/articles/PMC10243231/. Accessed 7 December 2023.\n",
    "\n",
    "Zhang, Dongfeng, et al. “Association between resting heart rate and coronary artery disease, stroke, sudden death and noncardiovascular diseases: a meta-analysis.” Canadian Medicine Association Journal, CMAJ, 18 October 2016, https://www.cmaj.ca/content/188/15/E384. Accessed 7 December 2023."
   ]
  },
  {
   "cell_type": "code",
   "execution_count": null,
   "id": "ee6fc883-b14f-4c3d-bd83-67baf3074663",
   "metadata": {},
   "outputs": [],
   "source": []
  }
 ],
 "metadata": {
  "kernelspec": {
   "display_name": "R",
   "language": "R",
   "name": "ir"
  },
  "language_info": {
   "codemirror_mode": "r",
   "file_extension": ".r",
   "mimetype": "text/x-r-source",
   "name": "R",
   "pygments_lexer": "r",
   "version": "4.2.2"
  }
 },
 "nbformat": 4,
 "nbformat_minor": 5
}
